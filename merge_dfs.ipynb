{
 "cells": [
  {
   "cell_type": "code",
   "execution_count": 187,
   "metadata": {},
   "outputs": [],
   "source": [
    "import numpy as np\n",
    "import pandas as pd"
   ]
  },
  {
   "cell_type": "code",
   "execution_count": 188,
   "metadata": {},
   "outputs": [
    {
     "data": {
      "text/plain": [
       "(2580, 81)"
      ]
     },
     "execution_count": 188,
     "metadata": {},
     "output_type": "execute_result"
    }
   ],
   "source": [
    "housing = pd.read_csv('data/Ames_Housing_Price_Data.csv', index_col=0)\n",
    "housing.shape"
   ]
  },
  {
   "cell_type": "code",
   "execution_count": 189,
   "metadata": {
    "scrolled": true
   },
   "outputs": [
    {
     "data": {
      "text/plain": [
       "909276070    2\n",
       "532351060    1\n",
       "903456110    1\n",
       "903202170    1\n",
       "907253110    1\n",
       "            ..\n",
       "534129370    1\n",
       "528477070    1\n",
       "535403150    1\n",
       "527190050    1\n",
       "533250050    1\n",
       "Name: PID, Length: 2579, dtype: int64"
      ]
     },
     "execution_count": 189,
     "metadata": {},
     "output_type": "execute_result"
    }
   ],
   "source": [
    "housing['PID'].value_counts()"
   ]
  },
  {
   "cell_type": "code",
   "execution_count": 190,
   "metadata": {},
   "outputs": [
    {
     "data": {
      "text/plain": [
       "(22213, 91)"
      ]
     },
     "execution_count": 190,
     "metadata": {},
     "output_type": "execute_result"
    }
   ],
   "source": [
    "realestate = pd.read_csv('data/Ames_Real_Estate_Data.csv')\n",
    "realestate.shape"
   ]
  },
  {
   "cell_type": "code",
   "execution_count": 191,
   "metadata": {},
   "outputs": [],
   "source": [
    "realestate = realestate.rename(columns = {'MapRefNo':'PID'})"
   ]
  },
  {
   "cell_type": "code",
   "execution_count": 192,
   "metadata": {
    "scrolled": true
   },
   "outputs": [
    {
     "data": {
      "text/plain": [
       "907460020    334\n",
       "916482001    294\n",
       "915225025    222\n",
       "910477010    216\n",
       "910251020    198\n",
       "            ... \n",
       "903231040      1\n",
       "532354200      1\n",
       "923100310      1\n",
       "906402180      1\n",
       "902103040      1\n",
       "Name: PID, Length: 14235, dtype: int64"
      ]
     },
     "execution_count": 192,
     "metadata": {},
     "output_type": "execute_result"
    }
   ],
   "source": [
    "realestate['PID'].value_counts()"
   ]
  },
  {
   "cell_type": "code",
   "execution_count": 193,
   "metadata": {},
   "outputs": [
    {
     "data": {
      "text/plain": [
       "21"
      ]
     },
     "execution_count": 193,
     "metadata": {},
     "output_type": "execute_result"
    }
   ],
   "source": [
    "# find how many PIDS from housing are NOT in real estate\n",
    "\n",
    "realestatePID_lst = realestate[\"PID\"].tolist()\n",
    "housingPID_lst = housing[\"PID\"].tolist()\n",
    "\n",
    "not_in_re = []\n",
    "for a in housingPID_lst:\n",
    "    if a not in realestatePID_lst:\n",
    "        not_in_re.append(a)\n",
    "        \n",
    "len(not_in_re)"
   ]
  },
  {
   "cell_type": "code",
   "execution_count": 194,
   "metadata": {
    "scrolled": true
   },
   "outputs": [
    {
     "data": {
      "text/plain": [
       "[531477050,\n",
       " 916253320,\n",
       " 535300120,\n",
       " 902205010,\n",
       " 902477120,\n",
       " 909129100,\n",
       " 916252170,\n",
       " 535426150,\n",
       " 904101170,\n",
       " 907230240,\n",
       " 902401130,\n",
       " 916477060,\n",
       " 911175360,\n",
       " 902103150,\n",
       " 916403040,\n",
       " 902401120,\n",
       " 923125030,\n",
       " 908154040,\n",
       " 912251110,\n",
       " 905450020,\n",
       " 902205020]"
      ]
     },
     "execution_count": 194,
     "metadata": {},
     "output_type": "execute_result"
    }
   ],
   "source": [
    "# list of PIDs from the housing data that are NOT in real estate -- can't get addresses for these\n",
    "not_in_re"
   ]
  },
  {
   "cell_type": "code",
   "execution_count": 195,
   "metadata": {},
   "outputs": [],
   "source": [
    "# merge lines with same PID and LotArea\n",
    "merged_df = housing.merge(realestate, how='inner', left_on=[\"PID\", \"LotArea\"], right_on=[\"PID\",\"LotArea\"])\n",
    "# merged_df = housing.merge(realestate, how='inner', left_on=[\"PID\", \"LotArea\"], right_on=[\"PID\",\"LotArea\"])"
   ]
  },
  {
   "cell_type": "code",
   "execution_count": 196,
   "metadata": {},
   "outputs": [
    {
     "data": {
      "text/plain": [
       "(2574, 170)"
      ]
     },
     "execution_count": 196,
     "metadata": {},
     "output_type": "execute_result"
    }
   ],
   "source": [
    "merged_df.shape"
   ]
  },
  {
   "cell_type": "code",
   "execution_count": 197,
   "metadata": {
    "scrolled": true
   },
   "outputs": [
    {
     "data": {
      "text/plain": [
       "528106020    3\n",
       "923226300    3\n",
       "527451640    2\n",
       "535402070    2\n",
       "907412020    2\n",
       "            ..\n",
       "535476360    1\n",
       "528358010    1\n",
       "535104120    1\n",
       "906392070    1\n",
       "533250050    1\n",
       "Name: PID, Length: 2529, dtype: int64"
      ]
     },
     "execution_count": 197,
     "metadata": {},
     "output_type": "execute_result"
    }
   ],
   "source": [
    "# 2529 unique PIDs\n",
    "merged_df['PID'].value_counts()"
   ]
  },
  {
   "cell_type": "code",
   "execution_count": 198,
   "metadata": {},
   "outputs": [
    {
     "data": {
      "text/plain": [
       "0           3324 STOCKBURY ST\n",
       "1               609 MEADOW PL\n",
       "2           4923 HEMINGWAY DR\n",
       "3               548 MEADOW CT\n",
       "4               201 E 13TH ST\n",
       "5                1115 28TH ST\n",
       "6                3416 WEST ST\n",
       "7            1217 CURTISS AVE\n",
       "8             208 S MAPLE AVE\n",
       "9              2629 STANGE RD\n",
       "10               1819 24TH ST\n",
       "11               302 OPAL CIR\n",
       "12       1461 BRECKINRIDGE CT\n",
       "13              205 DOTSON DR\n",
       "14              3618 MARY CIR\n",
       "15                622 11TH ST\n",
       "16              1412 DUFF AVE\n",
       "17              540 MEADOW CT\n",
       "18             2719 LAUREL ST\n",
       "19            123 N MAPLE AVE\n",
       "20            2022 GREELEY ST\n",
       "21             4915 WALLER ST\n",
       "22            2203 JENSEN AVE\n",
       "23            4015 TORONTO ST\n",
       "24          4009 BRICKMAN AVE\n",
       "25              716 HODGE AVE\n",
       "26           1320 INDIANA AVE\n",
       "27           1909 MAXWELL AVE\n",
       "28          2607 YORKSHIRE ST\n",
       "29               1410 16TH ST\n",
       "30    4008 FRANCES E DAVIS CT\n",
       "31          2317 FERNDALE AVE\n",
       "32         1310 WOODSTOCK AVE\n",
       "33                314 12TH ST\n",
       "34             5513 DURANT ST\n",
       "35         4028 FLETCHER BLVD\n",
       "36           3603 WOODLAND ST\n",
       "37               2220 ASH AVE\n",
       "38              118 E 11TH ST\n",
       "39              5421 FROST DR\n",
       "40             119 CHERRY AVE\n",
       "41            1139 JOHNSON ST\n",
       "42         102 N RIVERSIDE DR\n",
       "Name: index, dtype: object"
      ]
     },
     "execution_count": 198,
     "metadata": {},
     "output_type": "execute_result"
    }
   ],
   "source": [
    "# 42 Prop_Addr have value counts greater than 1\n",
    "merged_df['Prop_Addr'].value_counts().reset_index(name=\"count\").query(\"count > 1\")[\"index\"]"
   ]
  },
  {
   "cell_type": "code",
   "execution_count": 199,
   "metadata": {},
   "outputs": [
    {
     "data": {
      "text/plain": [
       "0     528106020\n",
       "1     923226300\n",
       "2     527451640\n",
       "3     535402070\n",
       "4     907412020\n",
       "5     528235010\n",
       "6     527214060\n",
       "7     911225110\n",
       "8     535151040\n",
       "9     923225360\n",
       "10    533212020\n",
       "11    905402070\n",
       "12    535450210\n",
       "13    914452190\n",
       "14    909276070\n",
       "15    531452050\n",
       "16    905402110\n",
       "17    528439040\n",
       "18    905476230\n",
       "19    902128020\n",
       "20    902206020\n",
       "21    527145090\n",
       "22    534125210\n",
       "23    907252060\n",
       "24    527455250\n",
       "25    906385020\n",
       "26    902106010\n",
       "27    903225040\n",
       "28    903429110\n",
       "29    923225390\n",
       "30    908127040\n",
       "31    907135040\n",
       "32    910226060\n",
       "33    909452102\n",
       "34    532376250\n",
       "35    527454200\n",
       "36    534455030\n",
       "37    903458060\n",
       "38    903456090\n",
       "39    535455080\n",
       "40    528220040\n",
       "41    532353130\n",
       "42    534276010\n",
       "Name: index, dtype: int64"
      ]
     },
     "execution_count": 199,
     "metadata": {},
     "output_type": "execute_result"
    }
   ],
   "source": [
    "# 42 PIDs have value counts greater than 1\n",
    "merged_df['PID'].value_counts().reset_index(name=\"count\").query(\"count > 1\")[\"index\"]"
   ]
  },
  {
   "cell_type": "code",
   "execution_count": 200,
   "metadata": {},
   "outputs": [],
   "source": [
    "# drop duplicate rows that are identical\n",
    "merged_df = merged_df.drop_duplicates()"
   ]
  },
  {
   "cell_type": "code",
   "execution_count": 201,
   "metadata": {},
   "outputs": [
    {
     "data": {
      "text/plain": [
       "(2573, 170)"
      ]
     },
     "execution_count": 201,
     "metadata": {},
     "output_type": "execute_result"
    }
   ],
   "source": [
    "merged_df.shape"
   ]
  },
  {
   "cell_type": "code",
   "execution_count": 202,
   "metadata": {},
   "outputs": [],
   "source": [
    "# drop duplicate rows with same PID; keep first\n",
    "merged_df = merged_df.drop_duplicates(subset='PID', keep=\"first\")"
   ]
  },
  {
   "cell_type": "code",
   "execution_count": 203,
   "metadata": {},
   "outputs": [
    {
     "data": {
      "text/plain": [
       "(2529, 170)"
      ]
     },
     "execution_count": 203,
     "metadata": {},
     "output_type": "execute_result"
    }
   ],
   "source": [
    "merged_df.shape"
   ]
  },
  {
   "cell_type": "code",
   "execution_count": 204,
   "metadata": {},
   "outputs": [
    {
     "name": "stdout",
     "output_type": "stream",
     "text": [
      "[909176170, 528164060, 531477050, 916253320, 903454010, 535353130, 902325100, 906426060, 909275040, 905425125, 535300120, 902205010, 902477120, 909129100, 916252170, 903235100, 903454020, 923202137, 907280040, 527276040, 535426150, 910206010, 903401020, 534478140, 904101170, 534450180, 907230240, 902401130, 535454100, 534403410, 903400220, 916477060, 911104060, 911175360, 535378020, 534129040, 902103150, 903427120, 916403040, 902206090, 902401120, 923125030, 908154040, 903231060, 912251110, 909280070, 535303030, 905450020, 902205020, 535425070]\n"
     ]
    }
   ],
   "source": [
    "# check which PIDs from housing didn't make it into merged\n",
    "mergedPID_lst = merged_df[\"PID\"].tolist()\n",
    "housingPID_lst = housing[\"PID\"].tolist()\n",
    "\n",
    "not_in_merged = []\n",
    "for a in housingPID_lst:\n",
    "    if a not in mergedPID_lst:\n",
    "        not_in_merged.append(a)\n",
    "print(not_in_merged)"
   ]
  },
  {
   "cell_type": "code",
   "execution_count": 205,
   "metadata": {},
   "outputs": [
    {
     "data": {
      "text/plain": [
       "50"
      ]
     },
     "execution_count": 205,
     "metadata": {},
     "output_type": "execute_result"
    }
   ],
   "source": [
    "# 50 PIDs from housing aren't in merged list\n",
    "# these are PIDs for which there wasn't a matching PID/LotArea in the real estate data\n",
    "len(not_in_merged)"
   ]
  },
  {
   "cell_type": "code",
   "execution_count": 206,
   "metadata": {},
   "outputs": [],
   "source": [
    "# select rows from housing that weren't in merged\n",
    "not_in_merged_df = housing[housing['PID'].isin(not_in_merged)]"
   ]
  },
  {
   "cell_type": "code",
   "execution_count": 207,
   "metadata": {},
   "outputs": [
    {
     "data": {
      "text/plain": [
       "(50, 81)"
      ]
     },
     "execution_count": 207,
     "metadata": {},
     "output_type": "execute_result"
    }
   ],
   "source": [
    "not_in_merged_df.shape"
   ]
  },
  {
   "cell_type": "code",
   "execution_count": 208,
   "metadata": {
    "scrolled": true
   },
   "outputs": [],
   "source": [
    "# now merge these rows to the main df -- they just won't have the data from the realestate df"
   ]
  },
  {
   "cell_type": "code",
   "execution_count": 209,
   "metadata": {},
   "outputs": [],
   "source": [
    "final_df = pd.merge(merged_df, not_in_merged_df, how='outer')"
   ]
  },
  {
   "cell_type": "code",
   "execution_count": 210,
   "metadata": {},
   "outputs": [
    {
     "data": {
      "text/plain": [
       "(2579, 184)"
      ]
     },
     "execution_count": 210,
     "metadata": {},
     "output_type": "execute_result"
    }
   ],
   "source": [
    "final_df.shape"
   ]
  },
  {
   "cell_type": "code",
   "execution_count": 211,
   "metadata": {},
   "outputs": [],
   "source": [
    "final_df.to_csv('final_df.csv', index=False)"
   ]
  },
  {
   "cell_type": "code",
   "execution_count": null,
   "metadata": {},
   "outputs": [],
   "source": []
  }
 ],
 "metadata": {
  "kernelspec": {
   "display_name": "Python 3",
   "language": "python",
   "name": "python3"
  },
  "language_info": {
   "codemirror_mode": {
    "name": "ipython",
    "version": 3
   },
   "file_extension": ".py",
   "mimetype": "text/x-python",
   "name": "python",
   "nbconvert_exporter": "python",
   "pygments_lexer": "ipython3",
   "version": "3.7.6"
  }
 },
 "nbformat": 4,
 "nbformat_minor": 4
}
